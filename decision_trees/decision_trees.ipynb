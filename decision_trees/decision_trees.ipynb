{
 "cells": [
  {
   "cell_type": "markdown",
   "metadata": {
    "id": "Bd-eXorC0NR3"
   },
   "source": [
    "# App dataset with decision trees"
   ]
  },
  {
   "cell_type": "code",
   "execution_count": null,
   "metadata": {},
   "outputs": [],
   "source": [
    "!pip install --upgrade scikit-learn==0.21"
   ]
  },
  {
   "cell_type": "code",
   "execution_count": null,
   "metadata": {
    "id": "oWqtHqjZ0XlR"
   },
   "outputs": [],
   "source": [
    "!git clone https://github.com/s7s/machine_learning_1.git\n",
    "%cd  machine_learning_1/decision_trees"
   ]
  },
  {
   "cell_type": "code",
   "execution_count": null,
   "metadata": {
    "id": "hxcEPeC40NR5"
   },
   "outputs": [],
   "source": [
    "import pandas as pd\n",
    "import numpy as np\n",
    "from matplotlib import pyplot as plt\n",
    "import utils\n",
    "\n",
    "from sklearn.tree import DecisionTreeClassifier\n",
    "from sklearn.tree import DecisionTreeRegressor\n",
    "import random\n",
    "random.seed(0)"
   ]
  },
  {
   "cell_type": "code",
   "execution_count": null,
   "metadata": {
    "id": "tv1VKCkW0NR5"
   },
   "outputs": [],
   "source": [
    "app_dataset = pd.DataFrame({\n",
    "    'Gender': ['Female','Female','Male','Female','Male','Male'],\n",
    "    'Age': [15, 25, 32, 35, 12, 14],\n",
    "    'App': ['Snapchat', 'SheIn', 'Fantasy PL', 'SheIn', 'Snapchat', 'Snapchat']})\n",
    "app_dataset"
   ]
  },
  {
   "cell_type": "markdown",
   "metadata": {
    "id": "IZ4zKFD90NR6"
   },
   "source": [
    "# With age as a categorical feature"
   ]
  },
  {
   "cell_type": "code",
   "execution_count": null,
   "metadata": {
    "id": "SbxCXI4-0NR7"
   },
   "outputs": [],
   "source": [
    "app_dataset_one_hot = pd.DataFrame(\n",
    "    {'Gender_Female':[1,1,0,1,0,0],\n",
    "     'Gender_Male':[0,0,1,0,1,1],\n",
    "     'Age_Young':[1,0,0,0,1,1],\n",
    "     'Age_Old':[0,1,1,1,0,0],\n",
    "     'App_Snapchat':[1,0,0,0,1,1],\n",
    "     'App_Fantasy_PL':[0,0,1,0,0,0],\n",
    "     'App_SheIn':[0,1,0,1,0,0]})\n",
    "app_dataset_one_hot"
   ]
  },
  {
   "cell_type": "code",
   "execution_count": null,
   "metadata": {
    "id": "u12U7akf0NR7"
   },
   "outputs": [],
   "source": [
    "X = app_dataset_one_hot[['Gender_Female','Gender_Male','Age_Old','Age_Young']]\n",
    "y = app_dataset_one_hot[['App_Snapchat','App_Fantasy_PL','App_SheIn']]"
   ]
  },
  {
   "cell_type": "code",
   "execution_count": null,
   "metadata": {
    "id": "avHTGAkZ0NR7"
   },
   "outputs": [],
   "source": [
    "from sklearn.tree import DecisionTreeClassifier\n",
    "## TODO ##\n",
    "# Train a Decision Tree Classifier and print score\n",
    "dt =\n",
    "\n"
   ]
  },
  {
   "cell_type": "code",
   "execution_count": null,
   "metadata": {
    "id": "2CH7y14L0NR8"
   },
   "outputs": [],
   "source": [
    "utils.display_tree(dt)"
   ]
  },
  {
   "cell_type": "markdown",
   "metadata": {
    "id": "ppI1Hf7t0NR8"
   },
   "source": [
    "# With age as a numerical feature"
   ]
  },
  {
   "cell_type": "code",
   "execution_count": null,
   "metadata": {
    "id": "kmS-YNBJ0NR8"
   },
   "outputs": [],
   "source": [
    "app_dataset = pd.DataFrame({\n",
    "    'Gender_Female':[1,1,0,1,0,0],\n",
    "    'Gender_Male':[0,0,1,0,1,1],\n",
    "    'Age': [15, 25, 32, 35, 12, 14],\n",
    "    'App': ['Snapchat', 'SheIn', 'Fantasy PL', 'SheIn', 'Snapchat', 'Snapchat']})\n",
    "print(app_dataset)"
   ]
  },
  {
   "cell_type": "code",
   "execution_count": null,
   "metadata": {
    "id": "KVYVNYDE0NR9"
   },
   "outputs": [],
   "source": [
    "features = app_dataset[['Age','Gender_Female','Gender_Male']]\n",
    "print(features)"
   ]
  },
  {
   "cell_type": "code",
   "execution_count": null,
   "metadata": {
    "id": "rXnUqLqV0NR9"
   },
   "outputs": [],
   "source": [
    "labels = app_dataset['App']\n",
    "print(labels)"
   ]
  },
  {
   "cell_type": "code",
   "execution_count": null,
   "metadata": {
    "id": "JxQErMLZ0NR9"
   },
   "outputs": [],
   "source": [
    "app_model = DecisionTreeClassifier()\n",
    "app_model.fit(features, labels)\n",
    "app_model.score(features, labels)"
   ]
  },
  {
   "cell_type": "code",
   "execution_count": null,
   "metadata": {
    "id": "qFWugGEws2Ba"
   },
   "outputs": [],
   "source": [
    "## TODO ##\n",
    "# predict\n",
    "# A girl aged 13\n",
    "\n",
    "# A woman aged 28\n",
    "\n",
    "# A man aged 34\n"
   ]
  },
  {
   "cell_type": "code",
   "execution_count": null,
   "metadata": {
    "id": "EM9kw1s-0NR-"
   },
   "outputs": [],
   "source": [
    "utils.display_tree(app_model)"
   ]
  },
  {
   "cell_type": "markdown",
   "metadata": {
    "id": "sTcHeWzdCNYV"
   },
   "source": [
    "# Decision trees for regression"
   ]
  },
  {
   "cell_type": "code",
   "execution_count": null,
   "metadata": {
    "id": "0SkrLvHWCNYa"
   },
   "outputs": [],
   "source": [
    "features = [[10],[20],[30],[40],[50],[60],[70],[80]]\n",
    "labels = [7,5,6,0,1,0,4,3]"
   ]
  },
  {
   "cell_type": "code",
   "execution_count": null,
   "metadata": {
    "id": "pCF5dONaCNYa"
   },
   "outputs": [],
   "source": [
    "plt.scatter(features, labels)\n",
    "plt.xlabel(\"Age\")\n",
    "plt.ylabel(\"Days per week\")\n",
    "plt.show()"
   ]
  },
  {
   "cell_type": "code",
   "execution_count": null,
   "metadata": {
    "id": "J2f5bd-sCNYb"
   },
   "outputs": [],
   "source": [
    "# use Decision Tree for Regreesion to fit tha data\n",
    "# use depth = 2\n",
    "dt_regressor = "
   ]
  },
  {
   "cell_type": "code",
   "execution_count": null,
   "metadata": {
    "id": "G9FXW6CJCNYc"
   },
   "outputs": [],
   "source": [
    "utils.display_tree(dt_regressor)"
   ]
  },
  {
   "cell_type": "code",
   "execution_count": null,
   "metadata": {
    "id": "MqTEB7FFCNYc"
   },
   "outputs": [],
   "source": [
    "utils.plot_regressor(dt_regressor, features, labels)"
   ]
  }
 ],
 "metadata": {
  "colab": {
   "collapsed_sections": [],
   "name": "Copy of Copy of App_recommendations.ipynb",
   "provenance": []
  },
  "kernelspec": {
   "display_name": "Python 3 (ipykernel)",
   "language": "python",
   "name": "python3"
  },
  "language_info": {
   "codemirror_mode": {
    "name": "ipython",
    "version": 3
   },
   "file_extension": ".py",
   "mimetype": "text/x-python",
   "name": "python",
   "nbconvert_exporter": "python",
   "pygments_lexer": "ipython3",
   "version": "3.8.8"
  }
 },
 "nbformat": 4,
 "nbformat_minor": 1
}
