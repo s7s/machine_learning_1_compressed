{
  "nbformat": 4,
  "nbformat_minor": 0,
  "metadata": {
    "kernelspec": {
      "display_name": "Python 3",
      "language": "python",
      "name": "python3"
    },
    "language_info": {
      "codemirror_mode": {
        "name": "ipython",
        "version": 3
      },
      "file_extension": ".py",
      "mimetype": "text/x-python",
      "name": "python",
      "nbconvert_exporter": "python",
      "pygments_lexer": "ipython3",
      "version": "3.7.6"
    },
    "colab": {
      "name": "Copy of Polynomial_regression_regularization.ipynb",
      "provenance": [],
      "collapsed_sections": []
    }
  },
  "cells": [
    {
      "cell_type": "markdown",
      "metadata": {
        "id": "eyjewtSBMA95"
      },
      "source": [
        "# Testing and regularization"
      ]
    },
    {
      "cell_type": "code",
      "metadata": {
        "colab": {
          "base_uri": "https://localhost:8080/"
        },
        "id": "y_RXtj1eMCb3",
        "outputId": "8b845026-104f-4bc6-bdd4-3ea4d0bef201"
      },
      "source": [
        "!git clone https://github.com/s7s/machine_learning_1.git\n",
        "%cd  machine_learning_1/polynomial_regression"
      ],
      "execution_count": 1,
      "outputs": [
        {
          "output_type": "stream",
          "text": [
            "Cloning into 'machine_learning_1'...\n",
            "remote: Enumerating objects: 81, done.\u001b[K\n",
            "remote: Counting objects: 100% (81/81), done.\u001b[K\n",
            "remote: Compressing objects: 100% (58/58), done.\u001b[K\n",
            "remote: Total 81 (delta 27), reused 74 (delta 20), pack-reused 0\u001b[K\n",
            "Unpacking objects: 100% (81/81), done.\n",
            "/content/machine_learning_1/polynomial_regression\n"
          ],
          "name": "stdout"
        }
      ]
    },
    {
      "cell_type": "code",
      "metadata": {
        "id": "YpX56PtFMA-A"
      },
      "source": [
        "import pandas as pd\n",
        "import numpy as np\n",
        "import random\n",
        "import matplotlib.pyplot as plt\n",
        "random.seed(0)"
      ],
      "execution_count": 2,
      "outputs": []
    },
    {
      "cell_type": "markdown",
      "metadata": {
        "id": "WBD0ZY2wMA-B"
      },
      "source": [
        "## Defining our dataset"
      ]
    },
    {
      "cell_type": "code",
      "metadata": {
        "colab": {
          "base_uri": "https://localhost:8080/",
          "height": 269
        },
        "id": "4sDgbZNRMA-C",
        "outputId": "d5b3eccf-9129-49d7-db2e-c1528adbc81a"
      },
      "source": [
        "# Our original polynomial is -x^2+x+15\n",
        "coefs = [15,1,-1]\n",
        "\n",
        "def polynomial(coefs, x):\n",
        "    n = len(coefs)\n",
        "    return sum([coefs[i]*x**i for i in range(n)])\n",
        "\n",
        "def draw_polynomial(coefs):\n",
        "    n = len(coefs)\n",
        "    x = np.linspace(-5, 5, 1000)\n",
        "    plt.ylim(-20,20)\n",
        "    plt.plot(x, sum([coefs[i]*x**i for i in range(n)]), linestyle='-', color='black')\n",
        "\n",
        "draw_polynomial(coefs)"
      ],
      "execution_count": 3,
      "outputs": [
        {
          "output_type": "display_data",
          "data": {
            "image/png": "[encoded data removed]",
            "text/plain": [
              "<Figure size 432x288 with 1 Axes>"
            ]
          },
          "metadata": {
            "tags": [],
            "needs_background": "light"
          }
        }
      ]
    },
    {
      "cell_type": "code",
      "metadata": {
        "id": "WvGqHRFCMA-E"
      },
      "source": [
        "X = []\n",
        "Y = []\n",
        "for i in range(40):\n",
        "    x = random.uniform(-5,5)\n",
        "    y = polynomial(coefs, x) + random.gauss(0,2)\n",
        "    X.append(x)\n",
        "    Y.append(y)\n",
        "X=np.array(X)\n",
        "Y=np.array(Y)"
      ],
      "execution_count": 4,
      "outputs": []
    },
    {
      "cell_type": "code",
      "metadata": {
        "colab": {
          "base_uri": "https://localhost:8080/",
          "height": 282
        },
        "id": "ETQxgGiFMA-E",
        "outputId": "47bf795a-9852-47e9-bc20-70db8811fbc7"
      },
      "source": [
        "plt.scatter(X, Y)\n",
        "#draw_polynomial(coefs)"
      ],
      "execution_count": 5,
      "outputs": [
        {
          "output_type": "execute_result",
          "data": {
            "text/plain": [
              "<matplotlib.collections.PathCollection at 0x7f030cf87450>"
            ]
          },
          "metadata": {
            "tags": []
          },
          "execution_count": 5
        },
        {
          "output_type": "display_data",
          "data": {
            "image/png": "[encoded data removed]",
            "text/plain": [
              "<Figure size 432x288 with 1 Axes>"
            ]
          },
          "metadata": {
            "tags": [],
            "needs_background": "light"
          }
        }
      ]
    },
    {
      "cell_type": "markdown",
      "metadata": {
        "id": "wLUfmV9iMA-F"
      },
      "source": [
        "## Training a polynomial regression model"
      ]
    },
    {
      "cell_type": "code",
      "metadata": {
        "colab": {
          "base_uri": "https://localhost:8080/"
        },
        "id": "xsNmJ6hoGPjb",
        "outputId": "0e73b39e-9a05-46a7-def0-8eef7620f36e"
      },
      "source": [
        "for datasample in zip(X,Y):\n",
        "    print(datasample)"
      ],
      "execution_count": 6,
      "outputs": [
        {
          "output_type": "stream",
          "text": [
            "(3.4442185152504816, 6.685961311021467)\n",
            "(-2.4108324970703663, 4.690236225597948)\n",
            "(0.11274721368608542, 12.205789026637378)\n",
            "(-1.9668727392107255, 11.133217991032268)\n",
            "(-0.23403045847644144, 10.927272159051856)\n",
            "(0.046868558173902564, 12.8584762866286)\n",
            "(-2.1816215560029617, 8.16012255928749)\n",
            "(-2.4949365863755943, 3.5061587527226514)\n",
            "(4.097462559682402, 5.933186396721837)\n",
            "(4.021659504395828, 2.454299054753137)\n",
            "(-1.8985243068066735, 8.956020414039855)\n",
            "(1.8398393191544127, 9.208004401915796)\n",
            "(-0.2785728454728664, 16.36505651355184)\n",
            "(1.1088697344380165, 16.14144978027318)\n",
            "(4.130110532378982, 4.299534274468492)\n",
            "(3.6530992777164, 4.83366913200435)\n",
            "(-2.395076896080406, 7.723543125251446)\n",
            "(-4.8595829983598104, -15.848718674227753)\n",
            "(2.1970468640395415, 9.366124268570305)\n",
            "(1.6815320123185087, 16.070558182542374)\n",
            "(-4.988571806855717, -18.893035332565795)\n",
            "(-2.5608912311286804, 6.043189895391749)\n",
            "(-1.7479563725260991, 11.091071520573042)\n",
            "(0.6751074062067186, 14.272553413210698)\n",
            "(-2.6138407138477984, 9.085321805751548)\n",
            "(-0.5203042856442961, 13.47860807272069)\n",
            "(-4.195541814474646, -7.812998091307244)\n",
            "(4.3283382422690675, 2.748647759010411)\n",
            "(-3.909421540688963, -7.163796336350065)\n",
            "(0.4744091132842376, 14.257854146830486)\n",
            "(3.14466863291336, 3.2664703661537313)\n",
            "(1.0318562796138302, 13.67662422703284)\n",
            "(0.8761706417543635, 12.57404063707232)\n",
            "(-1.1509885402733957, 13.436894195835206)\n",
            "(0.7565101416488851, 14.859288476607356)\n",
            "(-3.132704717444449, 3.3081236367340967)\n",
            "(1.1277317986860673, 13.596584816754236)\n",
            "(-4.1017563880440635, -7.821475002235993)\n",
            "(2.576039219664368, 14.181083579723474)\n",
            "(3.424602231401824, 3.5269925176080537)\n"
          ],
          "name": "stdout"
        }
      ]
    },
    {
      "cell_type": "markdown",
      "metadata": {
        "id": "Pze2ZphQMA-G"
      },
      "source": [
        "### Adding columns to our dataset corresponding to $x^2, x^3, \\ldots, x^{200}$"
      ]
    },
    {
      "cell_type": "code",
      "metadata": {
        "id": "c2XZgASOGfVv"
      },
      "source": [
        "from sklearn.preprocessing import PolynomialFeatures\n",
        "def addPoly(X,polyDegree):\n",
        "    poly = PolynomialFeatures(200,include_bias=False)\n",
        "    X=poly.fit_transform(X.reshape(-1, 1))\n",
        "    return X\n",
        "X_poly=addPoly(X,200)"
      ],
      "execution_count": 7,
      "outputs": []
    },
    {
      "cell_type": "code",
      "metadata": {
        "colab": {
          "base_uri": "https://localhost:8080/"
        },
        "id": "kKXdyM7fGzLC",
        "outputId": "ebc84a0a-93ad-4deb-f635-1c4b62c097a1"
      },
      "source": [
        "print(X_poly.shape)\n",
        "print(X_poly[0,:])"
      ],
      "execution_count": 8,
      "outputs": [
        {
          "output_type": "stream",
          "text": [
            "(40, 200)\n",
            "[3.44421852e+000 1.18626412e+001 4.08575284e+001 1.40722256e+002\n",
            " 4.84678199e+002 1.66933763e+003 5.74956356e+003 1.98027533e+004\n",
            " 6.82050095e+004 2.34912956e+005 8.09091554e+005 2.78668811e+006\n",
            " 9.59796279e+006 3.30574811e+007 1.13857189e+008 3.92149037e+008\n",
            " 1.35064697e+009 4.65192332e+009 1.60222404e+010 5.51840971e+010\n",
            " 1.90066089e+011 6.54629143e+011 2.25468581e+012 7.76563063e+012\n",
            " 2.67465288e+013 9.21208897e+013 3.17284474e+014 1.09279706e+015\n",
            " 3.76383187e+015 1.29634594e+016 4.46489869e+016 1.53780867e+017\n",
            " 5.29654911e+017 1.82424725e+018 6.28310616e+018 2.16403906e+019\n",
            " 7.45342338e+019 2.56712188e+020 8.84172871e+020 3.04528457e+021\n",
            " 1.04886255e+022 3.61251182e+022 1.24422801e+023 4.28539315e+023\n",
            " 1.47598304e+024 5.08360812e+024 1.75090572e+025 6.03050191e+025\n",
            " 2.07703663e+026 7.15376803e+026 2.46391403e+027 8.48625832e+027\n",
            " 2.92285280e+028 1.00669437e+029 3.46727540e+029 1.19420541e+030\n",
            " 4.11310440e+030 1.41664303e+031 4.87922816e+031 1.68051280e+032\n",
            " 5.78805329e+032 1.99353203e+033 6.86615993e+033 2.36485552e+034\n",
            " 8.14507916e+034 2.80534324e+035 9.66221514e+035 3.32787803e+036\n",
            " 1.14619391e+037 3.94774230e+037 1.35968871e+038 4.68306503e+038\n",
            " 1.61294993e+039 5.55535201e+039 1.91338463e+040 6.59011475e+040\n",
            " 2.26977953e+041 7.81761667e+041 2.69255801e+042 9.27375814e+042\n",
            " 3.19408495e+043 1.10011265e+044 3.78902837e+044 1.30502417e+045\n",
            " 4.49478839e+045 1.54810334e+046 5.33200619e+046 1.83645944e+047\n",
            " 6.32516762e+047 2.17852594e+048 7.50331939e+048 2.58430716e+049\n",
            " 8.90091855e+049 3.06567085e+050 1.05588403e+051 3.63669533e+051\n",
            " 1.25255734e+052 4.31408117e+052 1.48586383e+053 5.11763970e+053\n",
            " 1.76262694e+054 6.07087234e+054 2.09094109e+055 7.20165803e+055\n",
            " 2.48040839e+056 8.54306851e+056 2.94241947e+057 1.01343356e+058\n",
            " 3.49048664e+058 1.20219987e+059 4.14063906e+059 1.42612657e+060\n",
            " 4.91189154e+060 1.69176278e+061 5.82680069e+061 2.00687748e+062\n",
            " 6.91212458e+062 2.38068674e+063 8.19960536e+063 2.82412326e+064\n",
            " 9.72689763e+064 3.35015609e+065 1.15386696e+066 3.97416996e+066\n",
            " 1.36879098e+067 4.71441522e+067 1.62374762e+068 5.59254162e+068\n",
            " 1.92619354e+069 6.63423145e+069 2.28497428e+070 7.86995072e+070\n",
            " 2.71058300e+071 9.33584015e+071 3.21546735e+072 1.10747722e+073\n",
            " 3.81439354e+073 1.31376049e+074 4.52487819e+074 1.55846692e+075\n",
            " 5.36770063e+075 1.84875339e+076 6.36751066e+076 2.19310981e+077\n",
            " 7.55354941e+077 2.60160747e+078 8.96050463e+078 3.08619360e+079\n",
            " 1.06295251e+080 3.66104073e+080 1.26094243e+081 4.34296125e+081\n",
            " 1.49581075e+082 5.15189909e+082 1.77442662e+083 6.11151303e+083\n",
            " 2.10493864e+084 7.24986862e+084 2.49701317e+085 8.60025901e+085\n",
            " 2.96211713e+086 1.02021787e+087 3.51385326e+087 1.21024785e+088\n",
            " 4.16835804e+088 1.43567360e+089 4.94477358e+089 1.70308807e+090\n",
            " 5.86580747e+090 2.02031227e+091 6.95839692e+091 2.39662395e+092\n",
            " 8.25449659e+092 2.84302900e+093 9.79201312e+093 3.37258329e+094\n",
            " 1.16159138e+095 4.00077454e+095 1.37795417e+096 4.74597528e+096\n",
            " 1.63461759e+097 5.62998018e+097 1.93908820e+098 6.67864348e+098\n",
            " 2.30027075e+099 7.92263511e+099 2.72872865e+100 9.39833775e+100\n",
            " 3.23699289e+101 1.11489108e+102 3.83992852e+102 1.32255529e+103\n",
            " 4.55516942e+103 1.56889988e+104 5.40363403e+104 1.86112964e+105\n",
            " 6.41013716e+105 2.20779131e+106 7.60411570e+106 2.61902361e+107]\n"
          ],
          "name": "stdout"
        }
      ]
    },
    {
      "cell_type": "markdown",
      "metadata": {
        "id": "S8uYLISVMA-H"
      },
      "source": [
        "## Splitting data into training and testing"
      ]
    },
    {
      "cell_type": "code",
      "metadata": {
        "id": "fVnfiOyqMNLg"
      },
      "source": [
        "from sklearn.model_selection import train_test_split\n",
        "X_train, X_test, y_train, y_test = train_test_split(X_poly, Y, test_size=0.2)"
      ],
      "execution_count": 9,
      "outputs": []
    },
    {
      "cell_type": "code",
      "metadata": {
        "id": "WmHYknzXMA-I"
      },
      "source": [
        "from sklearn.metrics import mean_squared_error\n",
        "def display_results(model):\n",
        "    coefs = [model.intercept_]\n",
        "    coefs += list(model.coef_)\n",
        "    ytrain_predict=model.predict(X_train)\n",
        "    ytest_predict=model.predict(X_test)\n",
        "    train_error=np.sqrt(mean_squared_error(y_train,ytrain_predict))\n",
        "    test_error=np.sqrt(mean_squared_error(y_test,ytest_predict))\n",
        "    print(\"Training error (rmse):\", train_error)\n",
        "    print(\"Testing error (rmse):\", test_error)\n",
        "    plt.scatter(X_train[:,0], y_train, marker='o')\n",
        "    plt.scatter(X_test[:,0], y_test, marker='^')\n",
        "    draw_polynomial(coefs)\n",
        "    plt.show()\n",
        "    print(\"Polynomial coefficients\")\n",
        "    print(coefs)"
      ],
      "execution_count": 13,
      "outputs": []
    },
    {
      "cell_type": "markdown",
      "metadata": {
        "id": "G9x4Q5S3MA-I"
      },
      "source": [
        "## Training a polynomial regression model with no regularization"
      ]
    },
    {
      "cell_type": "code",
      "metadata": {
        "id": "QKm7sV7JMA-J",
        "colab": {
          "base_uri": "https://localhost:8080/"
        },
        "outputId": "053f7dc4-db6f-4ec2-9b65-09072210a7d0"
      },
      "source": [
        "from sklearn.linear_model import LinearRegression\n",
        "model_no_reg = LinearRegression(normalize=True)\n",
        "model_no_reg.fit(X_train, y_train)"
      ],
      "execution_count": 14,
      "outputs": [
        {
          "output_type": "execute_result",
          "data": {
            "text/plain": [
              "LinearRegression(copy_X=True, fit_intercept=True, n_jobs=None, normalize=True)"
            ]
          },
          "metadata": {
            "tags": []
          },
          "execution_count": 14
        }
      ]
    },
    {
      "cell_type": "code",
      "metadata": {
        "colab": {
          "base_uri": "https://localhost:8080/",
          "height": 356
        },
        "id": "uje8MamakgwD",
        "outputId": "df091eee-5862-4ab1-b397-135a16bdb050"
      },
      "source": [
        "display_results(model_no_reg)"
      ],
      "execution_count": 15,
      "outputs": [
        {
          "output_type": "stream",
          "text": [
            "Training error (rmse): 0.4842514242871714\n",
            "Testing error (rmse): 724766.480223356\n"
          ],
          "name": "stdout"
        },
        {
          "output_type": "display_data",
          "data": {
            "image/png": "[encoded data removed]",
            "text/plain": [
              "<Figure size 432x288 with 1 Axes>"
            ]
          },
          "metadata": {
            "tags": [],
            "needs_background": "light"
          }
        },
        {
          "output_type": "stream",
          "text": [
            "Polynomial coefficients\n",
            "[9.976784007698827, 28.859925703118872, 73.61854863748181, -531.7895027812459, 35.910076090084665, 2384.8664638544533, -1663.4234319445798, -3641.349910547599, 3312.485979982213, 2707.1375575627235, -2774.0006443650764, -1147.0154138221174, 1246.2661827753866, 293.3653794022134, -326.3800938379344, -45.0018195665372, 50.443703198571335, 3.834593896999721, -4.319389762873042, -0.14190411174887718, 0.15426647722837503, 0.00014862951318927154, 0.0021574428555877, -7.4739094140177345e-06, -0.00017778062348175418, 1.530893685329407e-06, -5.7253471965933065e-06, 2.820555344917371e-07, 4.739248980801527e-08, 1.1059225471673353e-08, 8.458818998908072e-09, -3.409578060184249e-11, 3.0828690612633306e-10, -2.466224288180589e-11, 4.6964258670959666e-12, -1.491777094349464e-12, -1.1460949858725008e-13, -5.243895070046766e-14, -1.1556709215606435e-14, -9.4658953357804e-16, -5.011775941246945e-16, 2.0424337156938915e-17, -1.5752297034366487e-17, 2.8737994037423545e-18, -3.550105598244711e-19, 1.698646021963615e-19, -4.003403695694601e-21, 7.511832477553921e-21, 1.2042152447049042e-22, 2.8196699157279693e-22, 9.744264765764231e-24, 9.018461916728959e-24, 4.021470268198863e-25, 2.3711624350959324e-25, 1.0604739907991082e-26, 4.2472228502779986e-27, 1.365116045799844e-28, -3.403323828433281e-29, -8.450198680554994e-30, -8.306028546555519e-30, -7.474192196524241e-31, -5.4346605357733135e-31, -4.3217049969482335e-32, -2.7999023872002295e-32, -2.051052727509143e-33, -1.2801617159395007e-33, -8.478557359853183e-35, -5.4260946106626e-35, -3.3281364598440934e-36, -2.2050950579939154e-36, -1.1724822514862264e-37, -8.59778788057327e-38, -4.0647882740760636e-39, -3.288760451435162e-39, -1.3571959023359369e-40, -1.2348900910086072e-40, -3.8726834797361945e-42, -4.5699221507677576e-42, -1.0370657374522058e-43, -1.6547043263574846e-43, -2.0839800801188518e-45, -5.978824655404052e-45, -5.036046271556434e-48, -2.1471534834156925e-46, 1.566941775663058e-48, -7.685697196659965e-48, 1.4382140388689868e-49, -2.7344864704623005e-49, 7.561624941276388e-51, -9.499652215248253e-51, 4.128675800487521e-52, -3.413204983980574e-52, 1.7475797522566428e-53, -1.1916409222736375e-53, 7.590085358877107e-55, -4.204963243494007e-55, 2.8899703852297357e-56, -1.4457293761045902e-56, 1.2659923600082247e-57, -5.058856190820063e-58, 4.687131553319252e-59, -1.89076894915961e-59, 1.7993850558157524e-60, -6.220033730055e-61, 6.661124064075397e-62, -2.2280257612116865e-62, 2.476210361905377e-63, -7.546568955582883e-64, 9.655434008427485e-65, -2.6448542174763248e-65, 3.4137051279311187e-66, -8.72546752527603e-67, 1.0874576035919406e-67, -3.0082481237765706e-68, 4.038221715648449e-69, -8.38100625464334e-70, 1.0815615851088483e-70, -3.077247226328082e-71, 3.090225373229964e-72, -6.761927623571919e-73, 9.463582680916178e-74, -2.4194382723447187e-74, 2.8067144086513483e-75, -6.702132101246503e-76, -2.6536516998485825e-77, 5.365293335094403e-81, -3.5265479634635683e-78, 3.849492505260931e-79, -3.290951032464893e-79, 5.024963252167819e-80, -1.5685561387785158e-80, 2.9772735208496323e-81, -6.139893954256312e-82, 1.4420494923943678e-82, -3.1481084188943782e-83, 6.263121346357022e-84, -1.6651444084802877e-84, 3.387590823258843e-85, -6.617967231369185e-86, 1.5377562009873104e-86, -3.281032638890866e-87, 6.862685789166761e-88, -1.3872368715364994e-88, 2.663292974591419e-89, -6.618179861164533e-90, 1.3237509003584447e-90, -2.833351386618897e-91, 5.6599150358172366e-92, -1.1322833827494433e-92, 2.4154529921627153e-93, -4.791666890389283e-94, 9.446494540043323e-95, -2.2806002316384445e-95, 4.135969566161859e-96, -9.636366393937356e-97, 1.764385266942403e-97, -3.478467158838156e-98, 7.726362227733667e-99, -1.5664719220292844e-99, 3.0683597530736055e-100, -6.454859699568179e-101, 1.2763566014972268e-101, -2.722012853629088e-102, 5.458061241799109e-103, -1.2040678975329203e-103, 2.250789722218218e-104, -4.686163413571109e-105, 9.402352367841173e-106, -1.8987692503312355e-106, 3.823041328853945e-107, -7.61633403872644e-108, 1.5806646630463456e-108, -3.06337245097998e-109, 6.27773102597947e-110, -1.3674410664706608e-110, 2.6961290278899262e-111, -5.436047057687377e-112, 1.0382001744135881e-112, -2.2284972133185946e-113, 4.340519702959642e-114, -9.064931826568654e-115, 1.7948863351892405e-115, -3.58011900954288e-116, 7.043168866680567e-117, -1.4627619088466808e-117, 3.0089954155372385e-118, -5.893678666822769e-119, 1.2419500419606642e-119, -2.5461363982422128e-120, 5.2392023032303485e-121, -1.0100723876027735e-121, 1.9909630413963672e-122, -4.047557899967902e-123, 7.854710661947122e-124, -1.607884596097126e-124, 3.3691500694849275e-125, -6.826664120386146e-126, 1.3532213603882625e-126, -2.8632008942260693e-127, 5.39328989020531e-128, -1.0917510145674532e-128]\n"
          ],
          "name": "stdout"
        }
      ]
    },
    {
      "cell_type": "markdown",
      "metadata": {
        "id": "TLTU-3ojMA-J"
      },
      "source": [
        "## Training a polynomial regression model with L1 regularization"
      ]
    },
    {
      "cell_type": "code",
      "metadata": {
        "id": "sBfyPNvMMA-J",
        "colab": {
          "base_uri": "https://localhost:8080/"
        },
        "outputId": "ea8097bd-d7be-4e02-bddb-7a41c8eeec48"
      },
      "source": [
        "from sklearn import linear_model\n",
        "model_L1_reg = linear_model.Lasso(alpha=0.1,normalize=True)\n",
        "model_L1_reg.fit(X_train, y_train)"
      ],
      "execution_count": 16,
      "outputs": [
        {
          "output_type": "execute_result",
          "data": {
            "text/plain": [
              "Lasso(alpha=0.1, copy_X=True, fit_intercept=True, max_iter=1000, normalize=True,\n",
              "      positive=False, precompute=False, random_state=None, selection='cyclic',\n",
              "      tol=0.0001, warm_start=False)"
            ]
          },
          "metadata": {
            "tags": []
          },
          "execution_count": 16
        }
      ]
    },
    {
      "cell_type": "code",
      "metadata": {
        "colab": {
          "base_uri": "https://localhost:8080/",
          "height": 356
        },
        "id": "LOYlQsU5MA-K",
        "outputId": "e2a68b5f-5b1c-42b9-c2ee-cda61eb5d56c"
      },
      "source": [
        "display_results(model_L1_reg)"
      ],
      "execution_count": 17,
      "outputs": [
        {
          "output_type": "stream",
          "text": [
            "Training error (rmse): 2.0352128128345823\n",
            "Testing error (rmse): 2.393922555836719\n"
          ],
          "name": "stdout"
        },
        {
          "output_type": "display_data",
          "data": {
            "image/png": "[encoded data removed]",
            "text/plain": [
              "<Figure size 432x288 with 1 Axes>"
            ]
          },
          "metadata": {
            "tags": [],
            "needs_background": "light"
          }
        },
        {
          "output_type": "stream",
          "text": [
            "Polynomial coefficients\n",
            "[13.360219346671578, 0.0, -0.8683762467823999, 0.061320663629833384, -0.0, 0.0003370384265022938, -0.0, 0.0, -0.0, 0.0, -0.0, 0.0, -0.0, 0.0, -0.0, 0.0, -0.0, 0.0, -0.0, 0.0, -0.0, 0.0, -0.0, 0.0, -0.0, 0.0, -0.0, 0.0, -0.0, 0.0, -0.0, 0.0, -0.0, 0.0, -0.0, 0.0, -0.0, 0.0, -0.0, 0.0, -0.0, 0.0, -0.0, 0.0, -0.0, 0.0, -0.0, 0.0, -0.0, 0.0, -0.0, 0.0, -0.0, 0.0, -0.0, 0.0, -0.0, 0.0, -0.0, 0.0, -0.0, 0.0, -0.0, 0.0, -0.0, 0.0, -0.0, 0.0, -0.0, 0.0, -0.0, 0.0, -0.0, 0.0, -0.0, 0.0, -0.0, 0.0, -0.0, 0.0, -0.0, 0.0, -0.0, 0.0, -0.0, 0.0, -0.0, 0.0, -0.0, 0.0, -0.0, 0.0, -0.0, 0.0, -0.0, 0.0, -0.0, 0.0, -0.0, 0.0, -0.0, 0.0, -0.0, 0.0, -0.0, 0.0, -0.0, 0.0, -0.0, 0.0, -0.0, 0.0, -0.0, 0.0, -0.0, 0.0, -0.0, 0.0, -0.0, 0.0, -0.0, 0.0, -0.0, 0.0, -0.0, 0.0, -0.0, 0.0, -0.0, 0.0, -0.0, 0.0, -0.0, 0.0, -0.0, 0.0, -0.0, 0.0, -0.0, 0.0, -0.0, 0.0, -0.0, 0.0, -0.0, 0.0, -0.0, 0.0, -0.0, 0.0, -0.0, 0.0, -0.0, 0.0, -0.0, 0.0, -0.0, 0.0, -0.0, 0.0, -0.0, 0.0, -0.0, 0.0, -0.0, 0.0, -0.0, 0.0, -0.0, 0.0, -0.0, 0.0, -0.0, 0.0, -0.0, 0.0, -0.0, 0.0, -0.0, 0.0, -0.0, 0.0, -0.0, 0.0, -0.0, 0.0, -0.0, 0.0, -0.0, 0.0, -0.0, 0.0, -0.0, 0.0, -0.0, 0.0, -0.0, 0.0, -0.0, 0.0, -0.0]\n"
          ],
          "name": "stdout"
        }
      ]
    },
    {
      "cell_type": "markdown",
      "metadata": {
        "id": "21v4zgmbMA-K"
      },
      "source": [
        "## Training a polynomial regression model with L2 regularization"
      ]
    },
    {
      "cell_type": "code",
      "metadata": {
        "id": "MrSeiPXPMA-K",
        "colab": {
          "base_uri": "https://localhost:8080/"
        },
        "outputId": "798c475d-c241-4900-d551-4f572f4699e8"
      },
      "source": [
        "from sklearn import linear_model\n",
        "model_L2_reg = linear_model.Ridge(alpha=0.1,normalize=True)\n",
        "model_L2_reg.fit(X_train, y_train)"
      ],
      "execution_count": 18,
      "outputs": [
        {
          "output_type": "execute_result",
          "data": {
            "text/plain": [
              "Ridge(alpha=0.1, copy_X=True, fit_intercept=True, max_iter=None, normalize=True,\n",
              "      random_state=None, solver='auto', tol=0.001)"
            ]
          },
          "metadata": {
            "tags": []
          },
          "execution_count": 18
        }
      ]
    },
    {
      "cell_type": "code",
      "metadata": {
        "colab": {
          "base_uri": "https://localhost:8080/",
          "height": 356
        },
        "id": "TyLoFFM_MA-L",
        "outputId": "fca5da10-d82d-44e9-9441-bdb98af67ccb"
      },
      "source": [
        "display_results(model_L2_reg)"
      ],
      "execution_count": 19,
      "outputs": [
        {
          "output_type": "stream",
          "text": [
            "Training error (rmse): 2.0621602491419813\n",
            "Testing error (rmse): 2.364678297203994\n"
          ],
          "name": "stdout"
        },
        {
          "output_type": "display_data",
          "data": {
            "image/png": "[encoded data removed]",
            "text/plain": [
              "<Figure size 432x288 with 1 Axes>"
            ]
          },
          "metadata": {
            "tags": [],
            "needs_background": "light"
          }
        },
        {
          "output_type": "stream",
          "text": [
            "Polynomial coefficients\n",
            "[12.823602532486559, 0.3012334856862072, -0.5491748030560163, 0.01996904659363896, -0.012960889626109934, 0.0009868570553600215, -0.0002693210338596677, 3.848080133855069e-05, -4.494466842606949e-06, 1.2593499795228786e-06, -3.685295782400986e-08, 3.578992432398423e-08, 1.5098342892858326e-09, 8.84805350672919e-10, 1.1780641257375812e-10, 1.776456337468747e-11, 5.6890401459509746e-12, 1.8762453323653513e-13, 2.3957228965751697e-13, -7.211804668497179e-15, 9.527763096029973e-15, -6.860118932581849e-16, 3.6884812330443303e-16, -3.7742962237428567e-17, 1.4093082704998218e-17, -1.7623752235464575e-18, 5.350885070673134e-19, -7.613769308333977e-20, 2.0257647053551676e-20, -3.1476734338253304e-21, 7.659642135920252e-22, -1.2660491016235345e-22, 2.894562567235864e-23, -4.9999997964260984e-24, 1.0934285582893618e-24, -1.9495610544960935e-25, 4.128530334592383e-26, -7.531015503548291e-27, 1.5577915312577242e-27, -2.8886486382657214e-28, 5.872492468734006e-29, -1.1018029018475065e-29, 2.2111656067752337e-30, -4.183197638316086e-31, 8.313719108836069e-32, -1.5819370942460428e-32, 3.120609521074275e-33, -5.961085785045287e-34, 1.1691017870739683e-34, -2.2388344376588774e-35, 4.3705314618788273e-36, -8.381627462097797e-37, 1.629983811916055e-37, -3.1278748652238735e-38, 6.063052052623536e-39, -1.1634616157878047e-39, 2.248740351353754e-40, -4.312893157276986e-41, 8.31366280601687e-42, -1.5929311953918246e-42, 3.0626235066412047e-43, -5.86000191773451e-44, 1.1237159736083132e-44, -2.146295314727858e-45, 4.1044603008222285e-46, -7.822400417641798e-47, 1.4914741581531235e-47, -2.8350048164069346e-48, 5.3875453603785016e-49, -1.0208280447920605e-49, 1.9326119660705946e-50, -3.647938627443303e-51, 6.875623608769169e-52, -1.2918024925212616e-52, 2.421847020389629e-53, -4.5241318406539917e-54, 8.426256920501501e-55, -1.5626860234893426e-55, 2.886371678479158e-56, -5.302663997989577e-57, 9.687519288133307e-58, -1.757221825815929e-58, 3.1621413070345693e-59, -5.632917480073842e-60, 9.913961091532443e-61, -1.71767472403661e-61, 2.916725390868151e-62, -4.81684789507257e-63, 7.644411512702114e-64, -1.1390704473996806e-64, 1.5151918364614105e-65, -1.5356640387459854e-66, 1.4534608819147196e-68, 5.440915995278687e-68, -2.2103181520878084e-68, 6.618580820708417e-69, -1.7540776903003632e-69, 4.3510861408448585e-70, -1.0352812449319642e-70, 2.393868176093486e-71, -5.420900373292901e-72, 1.208200180772088e-72, -2.659306181333169e-73, 5.794428197496399e-74, -1.252088560516478e-74, 2.6867616954796053e-75, -5.73120965786801e-76, 1.216319282747767e-76, -2.5699373524646912e-77, 5.408897649979516e-78, -1.134494360342834e-78, 2.3722906268802234e-79, -4.9470276801234215e-80, 1.0290829834556116e-80, -2.1359351811696295e-81, 4.4243122147723014e-82, -9.147461425417235e-83, 1.888078883545655e-83, -3.891025627227087e-84, 8.007285364202025e-85, -1.6456251429636655e-85, 3.3778706249507986e-86, -6.925632895152483e-87, 1.4184510509268712e-87, -2.902274905178993e-88, 5.9328041343103296e-89, -1.2117254996808367e-89, 2.4728312857120013e-90, -5.042571100635071e-91, 1.0275344339660734e-91, -2.0924039011310464e-92, 4.258101157231462e-93, -8.660102732029371e-94, 1.7602763912639e-94, -3.576041609886036e-95, 7.261064879821381e-96, -1.4736198813446626e-96, 2.989293709909408e-97, -6.061212864553889e-98, 1.2284784215259991e-98, -2.4888642779896158e-99, 5.04044257187116e-100, -1.0204165694964566e-100, 2.0650703125927654e-101, -4.177797779487365e-102, 8.449315771644292e-103, -1.7082962640030898e-103, 3.452852252206587e-104, -6.977041035133098e-105, 1.4094447928245167e-105, -2.8465127836003193e-106, 5.747394379119609e-107, -1.1601814938043821e-107, 2.3414344638683153e-108, -4.7243610324375775e-109, 9.530437105563717e-110, -1.922182952140852e-110, 3.876074416076976e-111, -7.814624991860202e-112, 1.5752367875294826e-112, -3.17473950871609e-113, 6.397313631756094e-114, -1.2888937219716048e-114, 2.596384458136157e-115, -5.22944642435821e-116, 1.0531241048375138e-116, -2.12052160835578e-117, 4.269207530916741e-118, -8.593998253537067e-119, 1.7297710144989217e-119, -3.4812016539242725e-120, 7.005170890813397e-121, -1.4094802006781351e-121, 2.835643001889227e-122, -5.7042431422029306e-123, 1.1473605574850116e-123, -2.307590103998058e-124, 4.640616508686047e-125, -9.331518005813787e-126, 1.876246150089426e-126, -3.772154503357983e-127, 7.583199345513668e-128, -1.5243334124959767e-128, 3.063889333181513e-129, -6.157903255327472e-130, 1.2375431881264797e-130, -2.486890018171164e-131, 4.997150957302698e-132, -1.0040583727967216e-132, 2.0172835821779215e-133, -4.0527266280105687e-134, 8.14143322171477e-135, -1.6354166922044955e-135, 3.2849651968269315e-136, -6.59794449701446e-137, 1.3251431917155595e-137, -2.6613005986599352e-138, 5.3444461375315e-139, -1.0732225426079285e-139, 2.1550423717032137e-140, -4.3271445395220894e-141]\n"
          ],
          "name": "stdout"
        }
      ]
    },
    {
      "cell_type": "markdown",
      "metadata": {
        "id": "1EsLoBMqMA-L"
      },
      "source": [
        "## Viewing the predictions in the testing set"
      ]
    },
    {
      "cell_type": "code",
      "metadata": {
        "id": "TPp6zYZ6MA-L",
        "colab": {
          "base_uri": "https://localhost:8080/",
          "height": 295
        },
        "outputId": "1f36f920-0366-44a1-8f33-cd8a9313c106"
      },
      "source": [
        "import pandas as pd\n",
        "from IPython.display import display\n",
        "predictions={}\n",
        "predictions ['x']=X_test[:,0]\n",
        "predictions ['y']=y_test\n",
        "predictions['No reg'] = model_no_reg.predict(X_test)\n",
        "predictions['L1 reg'] = model_L1_reg.predict(X_test)\n",
        "predictions['L2 reg'] = model_L2_reg.predict(X_test)\n",
        "predictions=pd.DataFrame.from_dict(predictions)\n",
        "display(predictions)"
      ],
      "execution_count": 20,
      "outputs": [
        {
          "output_type": "display_data",
          "data": {
            "text/html": [
              "<div>\n",
              "<style scoped>\n",
              "    .dataframe tbody tr th:only-of-type {\n",
              "        vertical-align: middle;\n",
              "    }\n",
              "\n",
              "    .dataframe tbody tr th {\n",
              "        vertical-align: top;\n",
              "    }\n",
              "\n",
              "    .dataframe thead th {\n",
              "        text-align: right;\n",
              "    }\n",
              "</style>\n",
              "<table border=\"1\" class=\"dataframe\">\n",
              "  <thead>\n",
              "    <tr style=\"text-align: right;\">\n",
              "      <th></th>\n",
              "      <th>x</th>\n",
              "      <th>y</th>\n",
              "      <th>No reg</th>\n",
              "      <th>L1 reg</th>\n",
              "      <th>L2 reg</th>\n",
              "    </tr>\n",
              "  </thead>\n",
              "  <tbody>\n",
              "    <tr>\n",
              "      <th>0</th>\n",
              "      <td>-2.181622</td>\n",
              "      <td>8.160123</td>\n",
              "      <td>-2.706703e+02</td>\n",
              "      <td>8.573835</td>\n",
              "      <td>8.960846</td>\n",
              "    </tr>\n",
              "    <tr>\n",
              "      <th>1</th>\n",
              "      <td>-2.395077</td>\n",
              "      <td>7.723543</td>\n",
              "      <td>-2.702503e+02</td>\n",
              "      <td>7.509818</td>\n",
              "      <td>8.096088</td>\n",
              "    </tr>\n",
              "    <tr>\n",
              "      <th>2</th>\n",
              "      <td>-2.410832</td>\n",
              "      <td>4.690236</td>\n",
              "      <td>-2.234013e+02</td>\n",
              "      <td>7.426443</td>\n",
              "      <td>8.027009</td>\n",
              "    </tr>\n",
              "    <tr>\n",
              "      <th>3</th>\n",
              "      <td>0.876171</td>\n",
              "      <td>12.574041</td>\n",
              "      <td>1.371320e+01</td>\n",
              "      <td>12.735008</td>\n",
              "      <td>12.672142</td>\n",
              "    </tr>\n",
              "    <tr>\n",
              "      <th>4</th>\n",
              "      <td>3.653099</td>\n",
              "      <td>4.833669</td>\n",
              "      <td>-2.357604e+05</td>\n",
              "      <td>4.980345</td>\n",
              "      <td>5.691748</td>\n",
              "    </tr>\n",
              "    <tr>\n",
              "      <th>5</th>\n",
              "      <td>-3.132705</td>\n",
              "      <td>3.308124</td>\n",
              "      <td>2.036350e+06</td>\n",
              "      <td>2.851191</td>\n",
              "      <td>3.870351</td>\n",
              "    </tr>\n",
              "    <tr>\n",
              "      <th>6</th>\n",
              "      <td>1.681532</td>\n",
              "      <td>16.070558</td>\n",
              "      <td>-1.716773e+02</td>\n",
              "      <td>11.200929</td>\n",
              "      <td>11.777135</td>\n",
              "    </tr>\n",
              "    <tr>\n",
              "      <th>7</th>\n",
              "      <td>1.108870</td>\n",
              "      <td>16.141450</td>\n",
              "      <td>1.384690e+01</td>\n",
              "      <td>12.376644</td>\n",
              "      <td>12.491228</td>\n",
              "    </tr>\n",
              "  </tbody>\n",
              "</table>\n",
              "</div>"
            ],
            "text/plain": [
              "          x          y        No reg     L1 reg     L2 reg\n",
              "0 -2.181622   8.160123 -2.706703e+02   8.573835   8.960846\n",
              "1 -2.395077   7.723543 -2.702503e+02   7.509818   8.096088\n",
              "2 -2.410832   4.690236 -2.234013e+02   7.426443   8.027009\n",
              "3  0.876171  12.574041  1.371320e+01  12.735008  12.672142\n",
              "4  3.653099   4.833669 -2.357604e+05   4.980345   5.691748\n",
              "5 -3.132705   3.308124  2.036350e+06   2.851191   3.870351\n",
              "6  1.681532  16.070558 -1.716773e+02  11.200929  11.777135\n",
              "7  1.108870  16.141450  1.384690e+01  12.376644  12.491228"
            ]
          },
          "metadata": {
            "tags": []
          }
        }
      ]
    }
  ]
}