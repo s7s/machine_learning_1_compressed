{
  "nbformat": 4,
  "nbformat_minor": 0,
  "metadata": {
    "kernelspec": {
      "display_name": "Python 3",
      "language": "python",
      "name": "python3"
    },
    "language_info": {
      "codemirror_mode": {
        "name": "ipython",
        "version": 3
      },
      "file_extension": ".py",
      "mimetype": "text/x-python",
      "name": "python",
      "nbconvert_exporter": "python",
      "pygments_lexer": "ipython3",
      "version": "3.7.6"
    },
    "colab": {
      "name": "Coding_perceptron_algorithm.ipynb",
      "provenance": [],
      "collapsed_sections": []
    }
  },
  "cells": [
    {
      "cell_type": "markdown",
      "metadata": {
        "id": "tCkvkBzWQfOZ"
      },
      "source": [
        "# Sentiment analysis with the perceptron algorithm\n",
        "\n",
        "### Importing the necessary packages"
      ]
    },
    {
      "cell_type": "code",
      "metadata": {
        "id": "TeSYY-G_QmH3"
      },
      "source": [
        "!git clone https://github.com/s7s/machine_learning_1.git\n",
        "%cd  machine_learning_1/perceptron_algorithm"
      ],
      "execution_count": null,
      "outputs": []
    },
    {
      "cell_type": "code",
      "metadata": {
        "id": "AT65ozh-QfOb"
      },
      "source": [
        "# Importing packages\n",
        "from matplotlib import pyplot as plt\n",
        "import numpy as np\n",
        "import random\n",
        "import utils"
      ],
      "execution_count": null,
      "outputs": []
    },
    {
      "cell_type": "markdown",
      "metadata": {
        "id": "wU0UAbhaQfOc"
      },
      "source": [
        "### Defining and plotting our dataset"
      ]
    },
    {
      "cell_type": "code",
      "metadata": {
        "id": "__oaZrDfQfOc"
      },
      "source": [
        "features = np.array([[1,0],[0,2],[1,1],[1,2],[1,3],[2,2],[2,3],[3,2]])\n",
        "labels = np.array([0,0,0,0,1,1,1,1])"
      ],
      "execution_count": null,
      "outputs": []
    },
    {
      "cell_type": "code",
      "metadata": {
        "id": "jVPeVngdQfOc"
      },
      "source": [
        "# Plotting the points\n",
        "utils.plot_points(features, labels)\n",
        "\n",
        "# Uncomment the following line to see a good line fit for this data.\n",
        "#utils.draw_line(1,1,-3.5)"
      ],
      "execution_count": null,
      "outputs": []
    },
    {
      "cell_type": "markdown",
      "metadata": {
        "id": "uakz24K2QfOd"
      },
      "source": [
        "### Coding the perceptron trick"
      ]
    },
    {
      "cell_type": "code",
      "metadata": {
        "id": "6lNtlGVPQfOd"
      },
      "source": [
        "def step(x):\n",
        "    ## TODO ##\n",
        "    # implement step function\n",
        "\n",
        "    return output\n",
        "\n",
        "def score(weights, bias, features):\n",
        "    ## TODO ##\n",
        "    # implement score calculation\n",
        "\n",
        "    return output\n",
        "\n",
        "def prediction(weights, bias, features):\n",
        "    ## TODO ##\n",
        "    # implement prediction calculation using step and score functions\n",
        "\n",
        "    return output\n",
        "\n",
        "def error(weights, bias, features, label):\n",
        "    ## TODO ##\n",
        "    # implement error calculation using prediction and score functions\n",
        "\n",
        "    return output\n",
        "\n",
        "def mean_perceptron_error(weights, bias, features, labels):\n",
        "    total_error = 0\n",
        "    for i in range(len(features)):\n",
        "        total_error += error(weights, bias, features[i], labels[i])\n",
        "    return total_error/len(features)"
      ],
      "execution_count": null,
      "outputs": []
    },
    {
      "cell_type": "code",
      "metadata": {
        "id": "etVteOzuQfOf"
      },
      "source": [
        "def perceptron_trick(weights, bias, features, label, learning_rate = 0.01):\n",
        "    ## TODO ##\n",
        "    # update the weights and bias using a single data sample\n",
        "\n",
        "    return weights, bias"
      ],
      "execution_count": null,
      "outputs": []
    },
    {
      "cell_type": "markdown",
      "metadata": {
        "id": "E4DJcTPOQfOf"
      },
      "source": [
        "### Running the perceptron algorithm"
      ]
    },
    {
      "cell_type": "code",
      "metadata": {
        "id": "_33WBrmcQfOg"
      },
      "source": [
        "random.seed(0)\n",
        "def perceptron_algorithm(features, labels, learning_rate = 0.01, epochs = 200):\n",
        "    weights = [1.0 for i in range(len(features[0]))]\n",
        "    bias = 0.0\n",
        "    errors = []\n",
        "    ## TODO ##\n",
        "    # for this number of epochs \n",
        "    # get a random datasample of our dataset(x,y)\n",
        "    # using the selected datasample use perceptron_trick update weights and bias\n",
        "\n",
        "    utils.draw_line(weights[0], weights[1], bias)\n",
        "    utils.plot_points(features, labels)\n",
        "    plt.ylim([-2, 5])\n",
        "    plt.show()\n",
        "    plt.scatter(range(epochs), errors)\n",
        "    return weights, bias"
      ],
      "execution_count": null,
      "outputs": []
    },
    {
      "cell_type": "code",
      "metadata": {
        "id": "l-49WtoMQfOg"
      },
      "source": [
        "perceptron_algorithm(features, labels)"
      ],
      "execution_count": null,
      "outputs": []
    },
    {
      "cell_type": "markdown",
      "metadata": {
        "id": "XC_xjAwxQfOg"
      },
      "source": [
        "### The perceptron algorithm using SKlearn"
      ]
    },
    {
      "cell_type": "code",
      "metadata": {
        "id": "J5j8WRAAQfOi"
      },
      "source": [
        "from sklearn.linear_model import Perceptron\n",
        "## TODO ##\n",
        "# Use SKlearn to train perceptron algorithm\n",
        "clf="
      ],
      "execution_count": null,
      "outputs": []
    },
    {
      "cell_type": "code",
      "metadata": {
        "id": "r0zV0RmcUNiR"
      },
      "source": [
        "clf.score(features, labels)"
      ],
      "execution_count": null,
      "outputs": []
    },
    {
      "cell_type": "code",
      "metadata": {
        "id": "UCHrDXAEUiwD"
      },
      "source": [
        "weights = clf.coef_\n",
        "bias = clf.intercept_\n",
        "utils.draw_line(weights[0][0], weights[0][1], bias)\n",
        "utils.plot_points(features, labels)\n",
        "plt.show()"
      ],
      "execution_count": null,
      "outputs": []
    }
  ]
}