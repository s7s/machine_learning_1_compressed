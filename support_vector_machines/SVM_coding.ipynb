{
  "nbformat": 4,
  "nbformat_minor": 0,
  "metadata": {
    "kernelspec": {
      "display_name": "Python 3",
      "language": "python",
      "name": "python3"
    },
    "language_info": {
      "codemirror_mode": {
        "name": "ipython",
        "version": 3
      },
      "file_extension": ".py",
      "mimetype": "text/x-python",
      "name": "python",
      "nbconvert_exporter": "python",
      "pygments_lexer": "ipython3",
      "version": "3.7.6"
    },
    "colab": {
      "name": "Copy of SVM_coding.ipynb",
      "provenance": [],
      "collapsed_sections": []
    }
  },
  "cells": [
    {
      "cell_type": "code",
      "metadata": {
        "id": "NiS6N-Fcsjff"
      },
      "source": [
        "!git clone https://github.com/s7s/machine_learning_1.git\n",
        "%cd  machine_learning_1/support_vector_machines"
      ],
      "execution_count": null,
      "outputs": []
    },
    {
      "cell_type": "code",
      "metadata": {
        "id": "o33SxBZjsdiz"
      },
      "source": [
        "import pandas as pd\n",
        "import numpy as np\n",
        "import matplotlib.pyplot as plt\n",
        "import utils\n",
        "from sklearn.svm import SVC,SVR\n",
        "import random"
      ],
      "execution_count": null,
      "outputs": []
    },
    {
      "cell_type": "markdown",
      "metadata": {
        "id": "CxqGw4JGsdi1"
      },
      "source": [
        "# Building an SVM to separate a linear dataset"
      ]
    },
    {
      "cell_type": "code",
      "metadata": {
        "id": "KrXoMXfLsdi1"
      },
      "source": [
        "# Loading the linear dataset\n",
        "\n",
        "linear_data = pd.read_csv('linear.csv')\n",
        "features = np.array(linear_data[['x_1', 'x_2']])\n",
        "labels = np.array(linear_data['y'])\n",
        "utils.plot_points(features, labels)"
      ],
      "execution_count": null,
      "outputs": []
    },
    {
      "cell_type": "code",
      "metadata": {
        "id": "qX0VPMNysdi3"
      },
      "source": [
        "from sklearn.svm import SVC\n",
        "#use linear SVM\n",
        "svm_linear = \n",
        "\n",
        "\n",
        "print(\"Accuracy:\", svm_linear.score(features, labels))\n",
        "utils.plot_model(features, labels, svm_linear)"
      ],
      "execution_count": null,
      "outputs": []
    },
    {
      "cell_type": "code",
      "metadata": {
        "id": "4WSUUS--sdi4"
      },
      "source": [
        "# use linear SVM with C = 0.01\n",
        "\n",
        "svm_c_001 = \n",
        "\n",
        "print(\"C = 0.01\")\n",
        "print(\"Accuracy:\", svm_c_001.score(features, labels))\n",
        "utils.plot_model(features, labels, svm_c_001)\n",
        "\n",
        "# use linear SVM with C = 100\n",
        "svm_c_100 = \n",
        "\n",
        "print(\"C = 100\")\n",
        "print(\"Accuracy:\", svm_c_100.score(features, labels))\n",
        "utils.plot_model(features, labels, svm_c_100)"
      ],
      "execution_count": null,
      "outputs": []
    },
    {
      "cell_type": "markdown",
      "metadata": {
        "id": "mbmS2R9jsdi5"
      },
      "source": [
        "# Building polynomial kernels for a circular dataset"
      ]
    },
    {
      "cell_type": "code",
      "metadata": {
        "id": "jo6oXcogsdi5"
      },
      "source": [
        "# Loading the one_circle dataset\n",
        "\n",
        "circular_data = pd.read_csv('one_circle.csv')\n",
        "features = np.array(circular_data[['x_1', 'x_2']])\n",
        "labels = np.array(circular_data['y'])\n",
        "utils.plot_points(features, labels)"
      ],
      "execution_count": null,
      "outputs": []
    },
    {
      "cell_type": "code",
      "metadata": {
        "id": "YxT7P3o-sdi6"
      },
      "source": [
        "# use poly SVM with Degree = 2\n",
        "svm_degree_2 = \n",
        "\n",
        "print(\"Polynomial kernel of degree = 2\")\n",
        "print(\"Accuracy:\", svm_degree_2.score(features, labels))\n",
        "utils.plot_model(features, labels, svm_degree_2)\n",
        "\n",
        "# use poly SVM with Degree = 4\n",
        "svm_degree_4 = \n",
        "\n",
        "print(\"Polynomial kernel of degree = 4\")\n",
        "print(\"Accuracy:\", svm_degree_4.score(features, labels))\n",
        "utils.plot_model(features, labels, svm_degree_4)"
      ],
      "execution_count": null,
      "outputs": []
    },
    {
      "cell_type": "markdown",
      "metadata": {
        "id": "HzT6punnsdi7"
      },
      "source": [
        "# Experimenting with gammas in the rbf kernel"
      ]
    },
    {
      "cell_type": "code",
      "metadata": {
        "id": "57gnOZessdi7"
      },
      "source": [
        "# Loading the two_circles dataset\n",
        "\n",
        "two_circles_data = pd.read_csv('two_circles.csv')\n",
        "features = np.array(two_circles_data[['x_1', 'x_2']])\n",
        "labels = np.array(two_circles_data['y'])\n",
        "utils.plot_points(features, labels)"
      ],
      "execution_count": null,
      "outputs": []
    },
    {
      "cell_type": "code",
      "metadata": {
        "id": "Xl9QQr4Psdi8"
      },
      "source": [
        "# use SVM rbf with gamma = 0.1\n",
        "svm_gamma_01 = \n",
        "\n",
        "print(\"Gamma = 0.1\")\n",
        "print(\"Accuracy:\", svm_gamma_01.score(features, labels))\n",
        "utils.plot_model(features, labels, svm_gamma_01)\n",
        "\n",
        "# use SVM rbf with gamma = 1\n",
        "svm_gamma_1 = \n",
        "\n",
        "print(\"Gamma = 1\")\n",
        "print(\"Accuracy:\", svm_gamma_1.score(features, labels))\n",
        "utils.plot_model(features, labels, svm_gamma_1)\n",
        "\n",
        "# use SVM rbf with gamma = 10\n",
        "svm_gamma_10 = \n",
        "\n",
        "print(\"Gamma = 10\")\n",
        "print(\"Accuracy:\", svm_gamma_10.score(features, labels))\n",
        "utils.plot_model(features, labels, svm_gamma_10)\n",
        "\n",
        "# use SVM rbf with gamma = 100\n",
        "svm_gamma_100 = \n",
        "\n",
        "print(\"Gamma = 100\")\n",
        "print(\"Accuracy:\", svm_gamma_100.score(features, labels))\n",
        "utils.plot_model(features, labels, svm_gamma_100)"
      ],
      "execution_count": null,
      "outputs": []
    },
    {
      "cell_type": "markdown",
      "metadata": {
        "id": "sG27wMM1tOwo"
      },
      "source": [
        "# Support Vector Regression (SVC)"
      ]
    },
    {
      "cell_type": "code",
      "metadata": {
        "id": "EVdxnvPztVTd"
      },
      "source": [
        "# Our original polynomial is -x^2+x+15\n",
        "coefs = [15,1,-1]\n",
        "\n",
        "def polynomial(coefs, x):\n",
        "    n = len(coefs)\n",
        "    return sum([coefs[i]*x**i for i in range(n)])\n",
        "\n",
        "def draw_polynomial(coefs):\n",
        "    n = len(coefs)\n",
        "    x = np.linspace(-5, 5, 1000)\n",
        "\n",
        "draw_polynomial(coefs)\n",
        "X = []\n",
        "Y = []\n",
        "x=-5\n",
        "for i in range(40):\n",
        "    x = x+0.25\n",
        "    y = polynomial(coefs, x) + random.gauss(0,2)\n",
        "    X.append(x)\n",
        "    Y.append(y)\n",
        "X=np.array(X)\n",
        "Y=np.array(Y)\n",
        "plt.ylim(-20,20)\n",
        "plt.scatter(X, Y)"
      ],
      "execution_count": null,
      "outputs": []
    },
    {
      "cell_type": "code",
      "metadata": {
        "id": "SBM1bpMWtlfk"
      },
      "source": [
        "# use poly SVR with degree 2 \n",
        "svr = "
      ],
      "execution_count": null,
      "outputs": []
    },
    {
      "cell_type": "code",
      "metadata": {
        "id": "Lp8VXO0YuFiC"
      },
      "source": [
        "from sklearn.metrics import mean_squared_error\n",
        "def display_results(svr,X,Y):\n",
        "  X=np.array(X)\n",
        "  y=np.array(Y)\n",
        "  lw = 2\n",
        "\n",
        "  svrs = ['svr_poly']\n",
        "  kernel_label = ['Polynomial']\n",
        "  model_color = ['g']\n",
        "\n",
        "  fig, axes = plt.subplots(nrows=1, ncols=1, figsize=(15, 10), sharey=True)\n",
        "  for ix, _ in enumerate(svrs):\n",
        "      plt.plot(X, svr.predict(X.reshape(-1, 1)), color=model_color[ix], lw=lw,\n",
        "                    label='{} model'.format(kernel_label[ix]))\n",
        "      plt.scatter(X[svr.support_], y[svr.support_], facecolor=\"none\",\n",
        "                      edgecolor=model_color[ix], s=50,\n",
        "                      label='{} support vectors'.format(kernel_label[ix]))\n",
        "      plt.scatter(X[np.setdiff1d(np.arange(len(X)), svr.support_)],\n",
        "                      y[np.setdiff1d(np.arange(len(X)), svr.support_)],\n",
        "                      facecolor=\"none\", edgecolor=\"k\", s=50,\n",
        "                      label='other training data')\n",
        "display_results(svr,X,Y)"
      ],
      "execution_count": null,
      "outputs": []
    }
  ]
}